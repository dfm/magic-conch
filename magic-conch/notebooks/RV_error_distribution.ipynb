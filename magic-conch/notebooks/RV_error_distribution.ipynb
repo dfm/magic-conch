{
 "cells": [
  {
   "cell_type": "code",
   "execution_count": 1,
   "metadata": {},
   "outputs": [],
   "source": [
    "import numpy as np\n",
    "import astropy.units as u\n",
    "import astropy.constants as c\n",
    "import matplotlib\n",
    "import matplotlib.pyplot as plt\n",
    "import pandas as pd\n",
    "import seaborn as sns\n",
    "from tqdm import tqdm\n",
    "import sys\n",
    "sys.path.insert(0, \"/home/quadry/binary_planet_host_project\")\n",
    "import kepler\n",
    "import astropy.units as u\n",
    "import astropy.constants as c\n",
    "from scipy import (special, stats)\n",
    "from functions import  single_probability, simulate\n",
    "import matplotlib.tri as tri\n",
    "G =c.G.to(u.au ** 3 / u.M_sun / u.day ** 2).value\n",
    "observing_span = 668"
   ]
  },
  {
   "cell_type": "code",
   "execution_count": 2,
   "metadata": {},
   "outputs": [],
   "source": [
    "sns.set_style(\"ticks\")\n",
    "plt.rcParams['figure.figsize'] = [16, 12]\n",
    "plt.rcParams['font.family'] = \"serif\"\n",
    "plt.rcParams[\"errorbar.capsize\"] = 20\n",
    "\n",
    "\n",
    "\n",
    "params = {'legend.fontsize': 'xx-large',\n",
    "         'axes.labelsize': 'xx-large',\n",
    "         'axes.titlesize':'xx-large',\n",
    "         'xtick.labelsize':'xx-large',\n",
    "         'ytick.labelsize':'xx-large'}\n",
    "\n",
    "\n",
    "plt.rcParams['mathtext.fontset'] = 'dejavuserif'\n",
    "\n",
    "plt.rcParams.update(params)\n",
    "plt.rc('font',**{'family':'serif','sans-serif':['Times']})\n",
    "\n",
    "plt.rcParams['font.family'] = \"serif\""
   ]
  },
  {
   "cell_type": "code",
   "execution_count": 3,
   "metadata": {},
   "outputs": [],
   "source": [
    "proc_kic = pd.read_csv('/home/quadry/binary_planet_host_project/data/bright_kic_data-xm-rc.0.csv')\n"
   ]
  },
  {
   "cell_type": "code",
   "execution_count": 4,
   "metadata": {},
   "outputs": [],
   "source": [
    "proc_kic = proc_kic [proc_kic ['radial_velocity_error'].notna()]\n",
    "m_g = proc_kic['phot_rp_mean_mag']\n",
    "proc_kic['converted_sigma_1'] = np.sqrt((2*proc_kic['radial_velocity_error']**2*proc_kic['rv_nb_transits']-0.0242*proc_kic['rv_nb_transits'])/np.pi)\n",
    "proc_kic['color bins'] = pd.cut(proc_kic['bp_rp'], 10)\n",
    "proc_kic['mag bins'] = pd.cut(proc_kic['phot_rp_mean_mag'], 10)\n",
    "\n",
    "proc_kic['color label'] = pd.cut(proc_kic['bp_rp'], 10, labels=False)\n",
    "proc_kic['mag label'] = pd.cut(proc_kic['phot_rp_mean_mag'], 10, labels=False)"
   ]
  },
  {
   "cell_type": "code",
   "execution_count": 6,
   "metadata": {},
   "outputs": [],
   "source": [
    "p = proc_kic[proc_kic['rv_p_single']>.9].dropna().groupby(['color bins', 'mag bins']).agg('mean')[['converted_sigma_1','radial_velocity_error'\n",
    "                                                                                        ,\"rv_gp_predict_theta\",\n",
    "                                                              \"rv_gp_predict_mu_single\",\"rv_gp_predict_sigma_single\",\"rv_gp_predict_sigma_multiple\",'color label','mag label']]\n",
    "p.unstack()\n",
    "p = p.dropna()\n",
    "p = p.reset_index(level=['color bins', 'mag bins'])\n",
    "colors = []\n",
    "for i in range(len(p)):\n",
    "    colors.append(p['color bins'].loc[i].mid)\n",
    "p['colors'] = colors\n",
    "\n",
    "mags = []\n",
    "for i in range(len(p)):\n",
    "    mags.append(p['mag bins'].loc[i].mid)\n",
    "p['mags'] = mags"
   ]
  },
  {
   "cell_type": "code",
   "execution_count": 7,
   "metadata": {},
   "outputs": [
    {
     "name": "stderr",
     "output_type": "stream",
     "text": [
      "<ipython-input-7-d1827555f149>:19: FutureWarning: Support for multi-dimensional indexing (e.g. `obj[:, None]`) is deprecated and will be removed in a future version.  Convert to a numpy array before indexing instead.\n",
      "  sigma = bin_info['converted_sigma_1'][:,None]\n"
     ]
    }
   ],
   "source": [
    "N = 5000000\n",
    "bin_info = p.sample(n=N, replace=True)\n",
    "\n",
    "maxn = 10\n",
    "number_of_obs = np.random.randint(7, maxn, size=N)\n",
    "mask = np.arange(maxn)[None, :] < number_of_obs[:, None]\n",
    "\n",
    "t = np.random.uniform(0, observing_span, (N, maxn))\n",
    "m_1 = np.random.uniform(low=1, high=2.5, size=N)\n",
    "q = np.zeros(N)\n",
    "#m_2 = np.random.uniform(low=0.2, high=1, size=N)\n",
    "e = np.random.random_sample(size=N)\n",
    "i = np.random.uniform(low=0, high=90, size=N)\n",
    "a = 10**np.random.uniform(low=-2, high=2, size=N)\n",
    "phi = np.random.uniform(0,2*np.pi, size=N)\n",
    "w = np.random.uniform(0,2*np.pi, size=N)\n",
    "\n",
    "bin_info = p.sample(n=N, replace=True)\n",
    "sigma = bin_info['converted_sigma_1'][:,None]\n",
    "\n",
    "r = simulate.RadialVelocity(m_1[:, None], q[:, None], e[:, None], i[:, None], a[:, None], phi[:, None], w[:, None], t, sigma)[0]\n",
    "r[~mask] = 0.0\n",
    "norm = 1 / np.sum(mask, axis=1)\n",
    "mu = np.sum(r, axis=1) * norm\n",
    "np.subtract(r, mu[:, None], out=r)\n",
    "np.square(r, out=r)\n",
    "r[~mask] = 0.0\n",
    "np.sum(r, axis=1, out=mu)\n",
    "np.multiply(mu, norm, out=mu)\n",
    "std = np.sqrt(mu, out=mu)\n",
    "\n",
    "single_data = pd.DataFrame()\n",
    "single_data['m1']=m_1\n",
    "single_data['q']=q\n",
    "single_data['e']=e\n",
    "single_data['i']=i\n",
    "single_data['a']=a\n",
    "single_data['t']=np.nan\n",
    "single_data['t']=number_of_obs\n",
    "single_data['phi']=phi\n",
    "single_data['w']=w\n",
    "\n",
    "single_data['RV'] = np.mean(r, axis=1)\n",
    "single_data['RV jitter'] = std\n",
    "\n",
    "singles = pd.concat((single_data,bin_info.reset_index()),axis=1)"
   ]
  },
  {
   "cell_type": "code",
   "execution_count": 24,
   "metadata": {},
   "outputs": [
    {
     "name": "stderr",
     "output_type": "stream",
     "text": [
      "<ipython-input-24-d645c19fe6cd>:22: FutureWarning: Support for multi-dimensional indexing (e.g. `obj[:, None]`) is deprecated and will be removed in a future version.  Convert to a numpy array before indexing instead.\n",
      "  sigma = bin_info['converted_sigma_1'][:,None]\n"
     ]
    }
   ],
   "source": [
    "mag_bins = []\n",
    "for i in p['mag label'].unique():\n",
    "    mag_bins.append(p[p['mag label']==i].sample(n=100000, replace=True))\n",
    "bin_info = pd.concat(mag_bins)\n",
    "    \n",
    "N = len(bin_info)    \n",
    "maxn = 10\n",
    "number_of_obs = np.random.randint(7, maxn, size=N)\n",
    "mask = np.arange(maxn)[None, :] < number_of_obs[:, None]\n",
    "\n",
    "t = np.random.uniform(0, observing_span, (N, maxn))\n",
    "m_1 = np.random.uniform(low=1, high=2.5, size=N)\n",
    "q = 10**np.random.uniform(low=-2, high=0, size=N)\n",
    "#m_2 = np.random.uniform(low=0.2, high=1, size=N)\n",
    "e = np.random.random_sample(size=N)\n",
    "i = np.random.uniform(low=0, high=90, size=N)\n",
    "a = 10**np.random.uniform(low=-2, high=2, size=N)\n",
    "phi = np.random.uniform(0,2*np.pi, size=N)\n",
    "w = np.random.uniform(0,2*np.pi, size=N)\n",
    "\n",
    "#bin_info = p.sample(n=N, replace=True)\n",
    "sigma = bin_info['converted_sigma_1'][:,None]\n",
    "rv, k = simulate.RadialVelocity(m_1[:, None], q[:, None], e[:, None], i[:, None], a[:, None], phi[:, None], w[:, None], t, sigma)\n",
    "RV=rv\n",
    "\n",
    "rv[~mask] = 0.0\n",
    "norm = 1 / np.sum(mask, axis=1)\n",
    "mu = np.sum(rv, axis=1) * norm\n",
    "np.subtract(rv, mu[:, None], out=rv)\n",
    "np.square(rv, out=rv)\n",
    "rv[~mask] = 0.0\n",
    "np.sum(rv, axis=1, out=mu)\n",
    "np.multiply(mu, norm, out=mu)\n",
    "std = np.sqrt(mu, out=mu)\n",
    "\n",
    "binary_data = pd.DataFrame()\n",
    "binary_data['m1']=m_1\n",
    "binary_data['q']=q\n",
    "binary_data['e']=e\n",
    "binary_data['i']=i\n",
    "binary_data['a']=a\n",
    "binary_data['t']=np.nan\n",
    "binary_data['t']=number_of_obs\n",
    "binary_data['phi']=phi\n",
    "binary_data['w']=w\n",
    "\n",
    "binary_data['RV'] = np.mean(RV, axis=1)\n",
    "binary_data['RV jitter'] = std\n",
    "binaries = pd.concat((binary_data,bin_info.reset_index()),axis=1)"
   ]
  },
  {
   "cell_type": "code",
   "execution_count": 25,
   "metadata": {},
   "outputs": [
    {
     "name": "stderr",
     "output_type": "stream",
     "text": [
      "/home/quadry/binary_planet_host_project/functions/single_probability.py:9: RuntimeWarning: invalid value encountered in sqrt\n",
      "  jv.append(np.sqrt((2/np.pi) * dataframe[\"t\"].iloc[i] * (dataframe[\"RV jitter\"].iloc[i]**2 - 0.11**2)))\n",
      "<ipython-input-25-6336f44c53ad>:10: SettingWithCopyWarning: \n",
      "A value is trying to be set on a copy of a slice from a DataFrame\n",
      "\n",
      "See the caveats in the documentation: https://pandas.pydata.org/pandas-docs/stable/user_guide/indexing.html#returning-a-view-versus-a-copy\n",
      "  singles['rv_p'][:N]=single_p\n",
      "/home/quadry/anaconda3/envs/isochrones/lib/python3.8/site-packages/pandas/core/indexing.py:670: SettingWithCopyWarning: \n",
      "A value is trying to be set on a copy of a slice from a DataFrame\n",
      "\n",
      "See the caveats in the documentation: https://pandas.pydata.org/pandas-docs/stable/user_guide/indexing.html#returning-a-view-versus-a-copy\n",
      "  iloc._setitem_with_indexer(indexer, value)\n"
     ]
    }
   ],
   "source": [
    "p_theta, p_mu_single, p_sigma_single, p_sigma_multiple,color,mag = singles[[\"rv_gp_predict_theta\",\"rv_gp_predict_mu_single\",\n",
    "                                                            \"rv_gp_predict_sigma_single\",\"rv_gp_predict_sigma_multiple\",'color label','mag label']][:N].values.T\n",
    "\n",
    "y =single_probability.get_j_rv(singles)[:N]\n",
    "\n",
    "single_p = (single_probability.calculate_rv_p_single(p_theta, p_mu_single, p_sigma_single, p_sigma_multiple, y))\n",
    "\n",
    "singles['rv_p'] = np.nan\n",
    "\n",
    "singles['rv_p'][:N]=single_p"
   ]
  },
  {
   "cell_type": "code",
   "execution_count": 26,
   "metadata": {},
   "outputs": [
    {
     "name": "stderr",
     "output_type": "stream",
     "text": [
      "<ipython-input-26-70ddf8cbf30d>:11: SettingWithCopyWarning: \n",
      "A value is trying to be set on a copy of a slice from a DataFrame\n",
      "\n",
      "See the caveats in the documentation: https://pandas.pydata.org/pandas-docs/stable/user_guide/indexing.html#returning-a-view-versus-a-copy\n",
      "  binaries['rv_p'][:N]=binary_p\n"
     ]
    }
   ],
   "source": [
    "p_theta, p_mu_single, p_sigma_single, p_sigma_multiple,color,mag = binaries[[\"rv_gp_predict_theta\",\"rv_gp_predict_mu_single\",\n",
    "                                                            \"rv_gp_predict_sigma_single\",\"rv_gp_predict_sigma_multiple\",'color label','mag label']][:N].values.T\n",
    "\n",
    "y =(binaries['RV jitter'])[:N]\n",
    "\n",
    "\n",
    "binary_p = (single_probability.calculate_rv_p_single(p_theta, p_mu_single, p_sigma_single, p_sigma_multiple, y))\n",
    "\n",
    "binaries['rv_p'] = np.nan\n",
    "\n",
    "binaries['rv_p'][:N]=binary_p"
   ]
  },
  {
   "cell_type": "code",
   "execution_count": 28,
   "metadata": {},
   "outputs": [
    {
     "data": {
      "text/plain": [
       "<matplotlib.legend.Legend at 0x7fdd5ad59700>"
      ]
     },
     "execution_count": 28,
     "metadata": {},
     "output_type": "execute_result"
    },
    {
     "data": {
      "image/png": "[encoded data removed]",
      "text/plain": [
       "<Figure size 1152x864 with 1 Axes>"
      ]
     },
     "metadata": {},
     "output_type": "display_data"
    }
   ],
   "source": [
    "\n",
    "plt.hist(binaries['RV jitter'][binaries['mag label']==4],  bins = np.geomspace(.05, 50, 50), label=' just binaries', histtype='step', lw=2, alpha)\n",
    "plt.hist(binaries['RV jitter'][binaries['rv_p']<.9][binaries['mag label']==4],  bins = np.geomspace(.05, 50, 50), label=' labeled binaries', histtype='step', lw=2)\n",
    "\n",
    "plt.hist(singles['RV jitter'][singles['mag label']==4],  bins = np.geomspace(.05, 50, 50), label=' just singles', histtype='step', lw=2)\n",
    "\n",
    "plt.xscale('log')\n",
    "plt.yscale('log')\n",
    "plt.xlabel('RV error [km/s]',fontsize=28)\n",
    "plt.ylabel('Counts',fontsize=28)\n",
    "plt.legend()\n"
   ]
  },
  {
   "cell_type": "code",
   "execution_count": null,
   "metadata": {},
   "outputs": [],
   "source": []
  },
  {
   "cell_type": "code",
   "execution_count": null,
   "metadata": {},
   "outputs": [],
   "source": []
  },
  {
   "cell_type": "code",
   "execution_count": null,
   "metadata": {},
   "outputs": [],
   "source": []
  },
  {
   "cell_type": "code",
   "execution_count": null,
   "metadata": {},
   "outputs": [],
   "source": []
  },
  {
   "cell_type": "code",
   "execution_count": null,
   "metadata": {},
   "outputs": [],
   "source": []
  }
 ],
 "metadata": {
  "kernelspec": {
   "display_name": "Python 3",
   "language": "python",
   "name": "python3"
  },
  "language_info": {
   "codemirror_mode": {
    "name": "ipython",
    "version": 3
   },
   "file_extension": ".py",
   "mimetype": "text/x-python",
   "name": "python",
   "nbconvert_exporter": "python",
   "pygments_lexer": "ipython3",
   "version": "3.8.6"
  }
 },
 "nbformat": 4,
 "nbformat_minor": 4
}
